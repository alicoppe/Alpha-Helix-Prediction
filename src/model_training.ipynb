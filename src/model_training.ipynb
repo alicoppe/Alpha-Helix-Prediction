{
 "cells": [
  {
   "cell_type": "code",
   "execution_count": 2,
   "metadata": {},
   "outputs": [],
   "source": [
    "import numpy as np\n",
    "import matplotlib.pyplot as plt\n",
    "\n",
    "import tensorflow as tf\n",
    "from tensorflow.keras.models import Sequential\n",
    "from tensorflow.keras.layers import Dense\n",
    "from tensorflow import keras\n",
    "from tensorflow.keras.preprocessing.sequence import pad_sequences\n",
    "\n",
    "from sklearn.model_selection import train_test_split\n",
    "from sklearn.metrics import accuracy_score\n"
   ]
  },
  {
   "cell_type": "code",
   "execution_count": 3,
   "metadata": {},
   "outputs": [],
   "source": [
    "inputFile = \"training_data/labels.txt\"\n",
    "\n",
    "def one_hot_encode_amino_acids(input_string):\n",
    "    \n",
    "    amino_acid_mapping = {'A': 0, 'C': 1, 'D': 2, 'E': 3, 'F': 4, 'G': 5, 'H': 6, 'I': 7, 'K': 8, 'L': 9, 'M': 10, 'N': 11, 'P': 12, 'Q': 13, 'R': 14, 'S': 15, 'T': 16, 'V': 17, 'W': 18, 'Y': 19}\n",
    "\n",
    "    one_hot_array = np.zeros((len(input_string), len(amino_acid_mapping)))\n",
    "    \n",
    "    for i in range(len(input_string)):\n",
    "        try:\n",
    "            one_hot_array[i, [amino_acid_mapping[input_string[i]]]] = 1\n",
    "        except:\n",
    "            one_hot_array = one_hot_array[:-1]\n",
    "        \n",
    "    return one_hot_array\n",
    "\n",
    "def decode_one_hot_array(array):\n",
    "    reverse_mapping = {0: 'A', 1: 'C', 2: 'D', 3: 'E', 4: 'F', 5: 'G', 6: 'H', 7: 'I', 8: 'K', 9: 'L', 10: 'M', 11: 'N', 12: 'P', 13: 'Q', 14: 'R', 15: 'S', 16: 'T', 17: 'V', 18: 'W', 19: 'Y'}\n",
    "    \n",
    "    indices_array = np.argmax(array, axis=1)\n",
    "    \n",
    "    string = ''\n",
    "    for i in range(array.shape[0]):\n",
    "        string += reverse_mapping[indices_array[i]]\n",
    "    \n",
    "    return string\n",
    "\n",
    "def encode_helices(input_string):\n",
    "    array = np.zeros((len(input_string),))\n",
    "    \n",
    "    for i in range(len(input_string)):\n",
    "        if input_string[i] == 'H':\n",
    "            array[i] = 1\n",
    "        elif input_string[i] == '-':\n",
    "            array[i] = 0\n",
    "        else:\n",
    "            array = array[:-1]\n",
    "    \n",
    "    return array\n",
    "\n",
    "def decode_helices(array):\n",
    "    string = ''\n",
    "    \n",
    "    for i in range(array.shape[0]):\n",
    "        if array[i] == 1:\n",
    "            string += 'H'\n",
    "        else:\n",
    "            string += '-'\n",
    "            \n",
    "    return string\n",
    "\n",
    "\n",
    "labels = []\n",
    "sequences = []\n",
    "\n",
    "seq_strings = []\n",
    "label_strings = []\n",
    "\n",
    "with open(inputFile, 'r') as f:\n",
    "    while True:\n",
    "        \n",
    "        name = f.readline()\n",
    "        sequence = f.readline()\n",
    "        label = f.readline()\n",
    "        \n",
    "        if not label: break\n",
    "        \n",
    "        labels.append(encode_helices(label[:-1]))\n",
    "        sequences.append(one_hot_encode_amino_acids(sequence[:-1]))\n",
    "        \n",
    "        seq_strings.append(sequence[:-1])\n",
    "        label_strings.append(label[:-1])"
   ]
  },
  {
   "cell_type": "code",
   "execution_count": 4,
   "metadata": {},
   "outputs": [],
   "source": [
    "def create_windows_dataset(sequences, labels, window_size):\n",
    "    pad_length = (window_size-1)//2\n",
    "    \n",
    "    dataset_sequences = []\n",
    "    dataset_labels = []\n",
    "    \n",
    "    for i in range(len(sequences)):\n",
    "        seq = np.pad(sequences[i], ((pad_length, pad_length), (0, 0)))\n",
    "        lab = labels[i]\n",
    "        \n",
    "        for j in range(sequences[i].shape[0]):\n",
    "            dataset_sequences.append(seq[j:j+window_size])\n",
    "            dataset_labels.append(lab[j])\n",
    "\n",
    "    return np.array(dataset_sequences), np.array(dataset_labels)"
   ]
  },
  {
   "cell_type": "code",
   "execution_count": 99,
   "metadata": {},
   "outputs": [
    {
     "name": "stdout",
     "output_type": "stream",
     "text": [
      "Accuracy for window size 3: 0.66\n",
      "Accuracy for window size 5: 0.69\n",
      "Accuracy for window size 7: 0.70\n",
      "Accuracy for window size 9: 0.71\n",
      "Accuracy for window size 11: 0.72\n",
      "Accuracy for window size 13: 0.72\n",
      "Accuracy for window size 15: 0.72\n",
      "Accuracy for window size 21: 0.72\n",
      "Accuracy for window size 27: 0.72\n",
      "Accuracy for window size 35: 0.72\n"
     ]
    }
   ],
   "source": [
    "from sklearn.naive_bayes import MultinomialNB\n",
    "\n",
    "windows = [3, 5, 7, 9, 11, 13, 15, 21, 27, 35]\n",
    "\n",
    "accuracies = []\n",
    "\n",
    "for window in windows:\n",
    "    \n",
    "    X, Y = create_windows_dataset(sequences, labels, window)\n",
    "    X = X.reshape(X.shape[0], X.shape[1]*X.shape[2])\n",
    "    \n",
    "    X_train, X_test, y_train, y_test = train_test_split(X, Y, test_size=0.2, random_state=42)\n",
    "    \n",
    "    # Initialize Gaussian Naive Bayes model\n",
    "    model = MultinomialNB()\n",
    "\n",
    "    # Train the model\n",
    "    model.fit(X_train, y_train)\n",
    "    \n",
    "    y_pred = model.predict(X_test)\n",
    "\n",
    "    # Calculate accuracy\n",
    "    accuracy = accuracy_score(y_test, y_pred)\n",
    "    print(f\"Accuracy for window size {window}: {accuracy:.2f}\")\n",
    "    \n",
    "    accuracies.append(accuracy)"
   ]
  },
  {
   "cell_type": "code",
   "execution_count": 100,
   "metadata": {},
   "outputs": [
    {
     "data": {
      "text/plain": [
       "Text(0, 0.5, 'Accuracy')"
      ]
     },
     "execution_count": 100,
     "metadata": {},
     "output_type": "execute_result"
    },
    {
     "data": {
      "image/png": "[encoded data removed]",
      "text/plain": [
       "<Figure size 640x480 with 1 Axes>"
      ]
     },
     "metadata": {},
     "output_type": "display_data"
    }
   ],
   "source": [
    "plt.plot(windows, accuracies)\n",
    "plt.title('Naive Bayes Accuracy in Alpha Helix Prediction')\n",
    "plt.xlabel('Window Size')\n",
    "plt.ylabel('Accuracy')"
   ]
  },
  {
   "cell_type": "code",
   "execution_count": 318,
   "metadata": {},
   "outputs": [],
   "source": [
    "seq_train, seq_test, labels_train, labels_test = train_test_split(sequences, labels, test_size=0.2, random_state=42)"
   ]
  },
  {
   "cell_type": "code",
   "execution_count": 319,
   "metadata": {},
   "outputs": [],
   "source": [
    "X_train, y_train = create_windows_dataset(seq_train, labels_train, 11)\n",
    "X_test, y_test = create_windows_dataset(seq_test, labels_test, 11)"
   ]
  },
  {
   "cell_type": "code",
   "execution_count": 320,
   "metadata": {},
   "outputs": [],
   "source": [
    "X_train = X_train.reshape(X_train.shape[0], X_train.shape[1]*X_train.shape[2])\n",
    "X_test = X_test.reshape(X_test.shape[0], X_test.shape[1]*X_test.shape[2])\n",
    "\n",
    "\n",
    "mnb = MultinomialNB()\n",
    "\n",
    "# Train the model\n",
    "mnb.fit(X_train, y_train)\n",
    "\n",
    "class_log_prior = mnb.class_log_prior_\n",
    "feature_log_prob = mnb.feature_log_prob_"
   ]
  },
  {
   "cell_type": "code",
   "execution_count": 199,
   "metadata": {},
   "outputs": [],
   "source": [
    "feature_log_prob_new = []\n",
    "for i in range(2):\n",
    "    feature_log_prob_new.append(list(feature_log_prob[i, :]))"
   ]
  },
  {
   "cell_type": "code",
   "execution_count": 200,
   "metadata": {},
   "outputs": [],
   "source": [
    "import ast\n",
    "\n",
    "file_path = 'src/parameters.txt'\n",
    "with open(file_path, 'w') as file:\n",
    "    file.write(str(list(class_log_prior)) + '\\n')\n",
    "    file.write(str(feature_log_prob_new) + '\\n')"
   ]
  },
  {
   "cell_type": "code",
   "execution_count": 344,
   "metadata": {},
   "outputs": [],
   "source": [
    "with open(file_path, 'r') as f:\n",
    "    class_log_prior = np.array(ast.literal_eval(f.readline()[:-1]))\n",
    "    feature_log_prob = np.array(ast.literal_eval(f.readline()[:-1]))\n",
    "    \n",
    "    W_lstm = np.array(ast.literal_eval(f.readline()[:-1]))\n",
    "    U_lstm = np.array(ast.literal_eval(f.readline()[:-1]))\n",
    "    b_lstm = np.array(ast.literal_eval(f.readline()[:-1]))\n",
    "    \n",
    "    W_dense = np.array(ast.literal_eval(f.readline()[:-1]))\n",
    "    b_dense = np.array(ast.literal_eval(f.readline()[:-1]))"
   ]
  },
  {
   "cell_type": "code",
   "execution_count": 204,
   "metadata": {},
   "outputs": [],
   "source": [
    "def softmax(logits):\n",
    "    exp_logits = np.exp(logits - np.max(logits, axis=1, keepdims=True))\n",
    "    probabilities = exp_logits / np.sum(exp_logits, axis=1, keepdims=True)\n",
    "    return probabilities\n",
    "\n",
    "def GNB_probabilities(input_array, feature_log_prob, class_log_prior):\n",
    "    log_likelihoods = np.dot(input_array, feature_log_prob.T) + class_log_prior\n",
    "    output = (softmax(log_likelihoods))[:, 1] # Take the softmax of the log likelihoods, and take the probability of alpha helix, which is column 1\n",
    "    # Since this is only binary classification, but the trained model on sklearn made predictions as 2 classes \n",
    "    return output"
   ]
  },
  {
   "cell_type": "code",
   "execution_count": 321,
   "metadata": {},
   "outputs": [],
   "source": [
    "X_train = GNB_probabilities(X_train, feature_log_prob, class_log_prior)\n",
    "X_test = GNB_probabilities(X_test, feature_log_prob, class_log_prior)"
   ]
  },
  {
   "cell_type": "code",
   "execution_count": 322,
   "metadata": {},
   "outputs": [],
   "source": [
    "X_test_GNB = X_test.reshape(-1, 1)\n",
    "\n",
    "start = 0\n",
    "for i in range(len(seq_test)):\n",
    "    length = seq_test[i].shape[0]\n",
    "    seq_test[i] = np.concatenate((seq_test[i], X_test_GNB[start: start+length, :]), axis=1)\n",
    "    \n",
    "    start += length"
   ]
  },
  {
   "cell_type": "code",
   "execution_count": 298,
   "metadata": {},
   "outputs": [],
   "source": [
    "def convert_NB_to_lstm_data(seq, X, y, max_len):\n",
    "    start = 0\n",
    "    num_values = seq[0].shape[1] + 1\n",
    "    new_x = np.zeros((len(seq), max_len, num_values))\n",
    "    new_y = np.zeros((len(seq), max_len))\n",
    "    \n",
    "    for i in range(len(seq)):\n",
    "        seq_length = seq[i].shape[0]\n",
    "        if seq_length < max_len:\n",
    "            new_x[i, :seq_length, :num_values-1] = seq[i]\n",
    "            new_x[i, :seq_length, num_values-1] = X[start: start+seq_length]\n",
    "            new_y[i, :seq_length] = y[start: start+seq_length]\n",
    "        else:\n",
    "            new_x[i, :seq_length, :num_values-1] = seq[i][:max_len, :]\n",
    "            new_x[i, :max_len, num_values-1] = X[start: start+max_len]\n",
    "            new_y[i, :max_len] = y[start: start+max_len]\n",
    "        start += seq_length\n",
    "    \n",
    "    return new_x, new_y.reshape(new_y.shape[0], new_y.shape[1], 1)\n",
    "\n",
    "def convert_list_to_lstm_array(seq, max_len):\n",
    "    new_x = np.zeros((len(seq), max_len, seq[0].shape[1]))\n",
    "    \n",
    "    for i in range(len(seq)):\n",
    "        seq_length = seq[i].shape[0]\n",
    "        if seq_length<max_len:\n",
    "            new_x[i, :seq_length, :] = seq[i]\n",
    "        else:\n",
    "            new_x[i, :seq_length, :] = seq[i][:max_len, :]\n",
    "    \n",
    "    return new_x"
   ]
  },
  {
   "cell_type": "code",
   "execution_count": 299,
   "metadata": {},
   "outputs": [],
   "source": [
    "X_train_lstm, y_train_lstm = convert_NB_to_lstm_data(seq_train, X_train, y_train, 1419)\n",
    "X_test_lstm, y_test_lstm = convert_NB_to_lstm_data(seq_test, X_test, y_test, 1419)"
   ]
  },
  {
   "cell_type": "code",
   "execution_count": 208,
   "metadata": {},
   "outputs": [
    {
     "name": "stdout",
     "output_type": "stream",
     "text": [
      "Epoch 1/21\n"
     ]
    },
    {
     "name": "stderr",
     "output_type": "stream",
     "text": [
      "2023-11-26 15:10:50.357284: I tensorflow/core/grappler/optimizers/custom_graph_optimizer_registry.cc:114] Plugin optimizer for device_type GPU is enabled.\n",
      "2023-11-26 15:10:50.777863: I tensorflow/core/grappler/optimizers/custom_graph_optimizer_registry.cc:114] Plugin optimizer for device_type GPU is enabled.\n",
      "2023-11-26 15:10:51.238171: I tensorflow/core/grappler/optimizers/custom_graph_optimizer_registry.cc:114] Plugin optimizer for device_type GPU is enabled.\n"
     ]
    },
    {
     "name": "stdout",
     "output_type": "stream",
     "text": [
      "533/533 [==============================] - ETA: 0s - loss: 0.5870 - accuracy: 0.6936"
     ]
    },
    {
     "name": "stderr",
     "output_type": "stream",
     "text": [
      "2023-11-26 15:11:56.530860: I tensorflow/core/grappler/optimizers/custom_graph_optimizer_registry.cc:114] Plugin optimizer for device_type GPU is enabled.\n",
      "2023-11-26 15:11:56.744855: I tensorflow/core/grappler/optimizers/custom_graph_optimizer_registry.cc:114] Plugin optimizer for device_type GPU is enabled.\n"
     ]
    },
    {
     "name": "stdout",
     "output_type": "stream",
     "text": [
      "533/533 [==============================] - 75s 137ms/step - loss: 0.5870 - accuracy: 0.6936 - val_loss: 0.5586 - val_accuracy: 0.7187\n",
      "Epoch 2/21\n",
      "533/533 [==============================] - 71s 134ms/step - loss: 0.5543 - accuracy: 0.7210 - val_loss: 0.5571 - val_accuracy: 0.7186\n",
      "Epoch 3/21\n",
      "533/533 [==============================] - 71s 134ms/step - loss: 0.5450 - accuracy: 0.7265 - val_loss: 0.5411 - val_accuracy: 0.7304\n",
      "Epoch 4/21\n",
      "533/533 [==============================] - 71s 134ms/step - loss: 0.5370 - accuracy: 0.7310 - val_loss: 0.5361 - val_accuracy: 0.7331\n",
      "Epoch 5/21\n",
      "533/533 [==============================] - 72s 135ms/step - loss: 0.5307 - accuracy: 0.7357 - val_loss: 0.5305 - val_accuracy: 0.7365\n",
      "Epoch 6/21\n",
      "533/533 [==============================] - 72s 134ms/step - loss: 0.5236 - accuracy: 0.7405 - val_loss: 0.5272 - val_accuracy: 0.7394\n",
      "Epoch 7/21\n",
      "533/533 [==============================] - 72s 135ms/step - loss: 0.5208 - accuracy: 0.7419 - val_loss: 0.5359 - val_accuracy: 0.7324\n",
      "Epoch 8/21\n",
      "533/533 [==============================] - 72s 135ms/step - loss: 0.5202 - accuracy: 0.7424 - val_loss: 0.5171 - val_accuracy: 0.7457\n",
      "Epoch 9/21\n",
      "533/533 [==============================] - 72s 136ms/step - loss: 0.5135 - accuracy: 0.7470 - val_loss: 0.5147 - val_accuracy: 0.7471\n",
      "Epoch 10/21\n",
      "533/533 [==============================] - 73s 137ms/step - loss: 0.5061 - accuracy: 0.7526 - val_loss: 0.5027 - val_accuracy: 0.7567\n",
      "Epoch 11/21\n",
      "533/533 [==============================] - 72s 134ms/step - loss: 0.4990 - accuracy: 0.7580 - val_loss: 0.5018 - val_accuracy: 0.7580\n",
      "Epoch 12/21\n",
      "533/533 [==============================] - 72s 135ms/step - loss: 0.4929 - accuracy: 0.7619 - val_loss: 0.4984 - val_accuracy: 0.7593\n",
      "Epoch 13/21\n",
      "533/533 [==============================] - 72s 135ms/step - loss: 0.4905 - accuracy: 0.7636 - val_loss: 0.4934 - val_accuracy: 0.7625\n",
      "Epoch 14/21\n",
      "533/533 [==============================] - 72s 135ms/step - loss: 0.4885 - accuracy: 0.7654 - val_loss: 0.4930 - val_accuracy: 0.7631\n",
      "Epoch 15/21\n",
      "533/533 [==============================] - 72s 135ms/step - loss: 0.4869 - accuracy: 0.7656 - val_loss: 0.4901 - val_accuracy: 0.7649\n",
      "Epoch 16/21\n",
      "533/533 [==============================] - 72s 134ms/step - loss: 0.4860 - accuracy: 0.7663 - val_loss: 0.4926 - val_accuracy: 0.7622\n",
      "Epoch 17/21\n",
      "533/533 [==============================] - 72s 134ms/step - loss: 0.4835 - accuracy: 0.7681 - val_loss: 0.4898 - val_accuracy: 0.7659\n",
      "Epoch 18/21\n",
      "533/533 [==============================] - 71s 134ms/step - loss: 0.4813 - accuracy: 0.7692 - val_loss: 0.4873 - val_accuracy: 0.7658\n",
      "Epoch 19/21\n",
      "533/533 [==============================] - 71s 134ms/step - loss: 0.4802 - accuracy: 0.7702 - val_loss: 0.4895 - val_accuracy: 0.7647\n",
      "Epoch 20/21\n",
      "533/533 [==============================] - 72s 136ms/step - loss: 0.4791 - accuracy: 0.7705 - val_loss: 0.4946 - val_accuracy: 0.7627\n",
      "Epoch 21/21\n",
      "533/533 [==============================] - 72s 135ms/step - loss: 0.4823 - accuracy: 0.7687 - val_loss: 0.4875 - val_accuracy: 0.7671\n"
     ]
    }
   ],
   "source": [
    "import numpy as np\n",
    "import tensorflow as tf\n",
    "from tensorflow.keras.models import Sequential\n",
    "from tensorflow.keras.layers import LSTM, Dense, Masking\n",
    "\n",
    "# Build the model\n",
    "model = Sequential()\n",
    "model.add(Masking(mask_value=0., input_shape=(None,21)))\n",
    "model.add(LSTM(64, return_sequences=True))  # Set return_sequences=True\n",
    "model.add(Dense(1, activation='sigmoid'))\n",
    "\n",
    "# Compile the model\n",
    "model.compile(optimizer='adam', loss='binary_crossentropy', metrics=['accuracy'])\n",
    "\n",
    "# Define a callback to store training and validation accuracy for each epoch\n",
    "class AccuracyHistory(tf.keras.callbacks.Callback):\n",
    "    def on_train_begin(self, logs={}):\n",
    "        self.train_accuracy = []\n",
    "        self.val_accuracy = []\n",
    "\n",
    "    def on_epoch_end(self, epoch, logs={}):\n",
    "        self.train_accuracy.append(logs.get('accuracy'))\n",
    "        self.val_accuracy.append(logs.get('val_accuracy'))\n",
    "\n",
    "# Instantiate the callback\n",
    "accuracy_history = AccuracyHistory()\n",
    "\n",
    "# Train the model with validation data and using the callback\n",
    "history = model.fit(\n",
    "    X_train_lstm, y_train_lstm,\n",
    "    epochs=21,\n",
    "    batch_size=8,\n",
    "    validation_data=(X_test_lstm, y_test_lstm),\n",
    "    callbacks=[accuracy_history]\n",
    ")"
   ]
  },
  {
   "cell_type": "code",
   "execution_count": 223,
   "metadata": {},
   "outputs": [],
   "source": [
    "def sigmoid(x):\n",
    "    return 1 / (1 + np.exp(-x))\n",
    "\n",
    "def tanh(x):\n",
    "    return np.tanh(x)"
   ]
  },
  {
   "cell_type": "code",
   "execution_count": 341,
   "metadata": {},
   "outputs": [],
   "source": [
    "def lstm_cell(X_t, h_prev, c_prev, W, U, b, units=64):\n",
    "    # Weight matrix of current LSTM unit\n",
    "    W_i = W[:, :units] # input gate\n",
    "    W_f = W[:, units: units * 2] # forget gate \n",
    "    W_c = W[:, units * 2: units * 3] # cell state\n",
    "    W_o = W[:, units * 3:] # forget gate\n",
    "\n",
    "    # Weight matrix connecting previous LSTM unit to current\n",
    "    U_i = U[:, :units]\n",
    "    U_f = U[:, units: units * 2]\n",
    "    U_c = U[:, units * 2: units * 3]\n",
    "    U_o = U[:, units * 3:]\n",
    "\n",
    "    # Bias vectors \n",
    "    b_i = b[:units]\n",
    "    b_f = b[units: units * 2]\n",
    "    b_c = b[units * 2: units * 3]\n",
    "    b_o = b[units * 3:]\n",
    "    \n",
    "    \n",
    "    # Input gate\n",
    "    i_t = sigmoid(X_t @ W_i + h_prev @ U_i + b_i)\n",
    "    \n",
    "    # Forget gate\n",
    "    f_t = sigmoid(X_t @ W_f + h_prev @ U_f + b_f)\n",
    "    \n",
    "    # Cell state\n",
    "    c_t = f_t * c_prev + i_t * tanh(X_t @ W_c + h_prev @ U_c + b_c)\n",
    "    \n",
    "    # Output gate\n",
    "    o_t = sigmoid(X_t @ W_o + h_prev @ U_o + b_o)\n",
    "    \n",
    "    # Hidden state\n",
    "    h_t = o_t * tanh(c_t)\n",
    "    \n",
    "    return h_t, c_t\n",
    "\n",
    "def dense_layer(input_data, w_dense, b_dense):\n",
    "    output = input_data@w_dense + b_dense\n",
    "    return output\n",
    "\n",
    "def forward_propagation(sequence,  W_lstm, U_lstm, b_lstm, W_dense, b_dense, units=64):\n",
    "    c_t = np.zeros((1, units))\n",
    "    h_t = np.zeros((1, units))\n",
    "    \n",
    "    preds = np.zeros((len(sequence)))\n",
    "    for i in range(sequence.shape[0]):\n",
    "        h_t, c_t = lstm_cell(sequence[i,:], h_t, c_t, W_lstm, U_lstm, b_lstm)\n",
    "        \n",
    "        value = dense_layer(h_t, W_dense, b_dense)\n",
    "\n",
    "        binary_output = 1 if value > 0.5 else 0\n",
    "        \n",
    "        preds[i] = binary_output\n",
    "        \n",
    "    return preds"
   ]
  },
  {
   "cell_type": "code",
   "execution_count": 346,
   "metadata": {},
   "outputs": [
    {
     "data": {
      "text/plain": [
       "0.7581283748364522"
      ]
     },
     "execution_count": 346,
     "metadata": {},
     "output_type": "execute_result"
    }
   ],
   "source": [
    "sum_total = 0\n",
    "sum_correct = 0\n",
    "for i in range(len(seq_test)):\n",
    "    preds = forward_propagation(seq_test[i], W_lstm, U_lstm, b_lstm, W_dense, b_dense)\n",
    "    \n",
    "    excess = X_test_lstm.shape[1] - seq_test[i].shape[0]\n",
    "    sum_total += seq_test[i].shape[0]\n",
    "    sum_correct += np.sum(preds == y_test_lstm[i, :seq_test[i].shape[0], 0])\n",
    "    \n",
    "sum_correct/sum_total"
   ]
  },
  {
   "cell_type": "code",
   "execution_count": 342,
   "metadata": {},
   "outputs": [],
   "source": [
    "W_lstm_temp = []\n",
    "for i in range(W_lstm.shape[0]):\n",
    "    W_lstm_temp.append(list(W_lstm[i, :]))\n",
    "W_lstm = W_lstm_temp\n",
    "\n",
    "U_lstm_temp = []\n",
    "for i in range(U_lstm.shape[0]):\n",
    "    U_lstm_temp.append(list(U_lstm[i, :]))\n",
    "U_lstm = U_lstm_temp\n",
    "\n",
    "b_lstm = list(b_lstm)\n",
    "\n",
    "W_dense_temp = []\n",
    "for i in range(W_dense.shape[0]):\n",
    "    W_dense_temp.append(list(W_dense[i, :]))\n",
    "W_dense = W_dense_temp\n",
    "\n",
    "b_dense = list(b_dense)"
   ]
  },
  {
   "cell_type": "code",
   "execution_count": 343,
   "metadata": {},
   "outputs": [],
   "source": [
    "file_path = 'src/parameters.txt'\n",
    "with open(file_path, 'w') as file:\n",
    "    file.write(str(list(class_log_prior)) + '\\n')\n",
    "    file.write(str(feature_log_prob_new) + '\\n')\n",
    "    \n",
    "    file.write(str(W_lstm) + '\\n')\n",
    "    file.write(str(U_lstm) + '\\n')\n",
    "    file.write(str(b_lstm) + '\\n')\n",
    "    \n",
    "    file.write(str(W_dense) + '\\n')\n",
    "    file.write(str(b_dense) + '\\n')"
   ]
  },
  {
   "cell_type": "code",
   "execution_count": 91,
   "metadata": {},
   "outputs": [],
   "source": [
    "test_size = 0.3\n",
    "validation_size = 0.2\n",
    "x_lstm_seq, x_temp, y_lstm_seq, y_temp = train_test_split(sequences, labels, test_size=test_size + validation_size, random_state=42)\n",
    "x_test_seq, x_NB1, y_test_seq, y_NB1 = train_test_split(x_temp, y_temp, test_size=test_size/(test_size + validation_size), random_state=42)"
   ]
  },
  {
   "cell_type": "code",
   "execution_count": 92,
   "metadata": {},
   "outputs": [],
   "source": [
    "x_NB1, y_NB1 = create_windows_dataset(x_NB1, y_NB1, 13)\n",
    "\n",
    "X_test, y_test = create_windows_dataset(x_test_seq, y_test_seq, 13)\n",
    "\n",
    "X_lstm, y_lstm = create_windows_dataset(x_lstm_seq, y_lstm_seq, 13)"
   ]
  },
  {
   "cell_type": "code",
   "execution_count": 93,
   "metadata": {},
   "outputs": [
    {
     "data": {
      "text/html": [
       "<style>#sk-container-id-12 {color: black;background-color: white;}#sk-container-id-12 pre{padding: 0;}#sk-container-id-12 div.sk-toggleable {background-color: white;}#sk-container-id-12 label.sk-toggleable__label {cursor: pointer;display: block;width: 100%;margin-bottom: 0;padding: 0.3em;box-sizing: border-box;text-align: center;}#sk-container-id-12 label.sk-toggleable__label-arrow:before {content: \"▸\";float: left;margin-right: 0.25em;color: #696969;}#sk-container-id-12 label.sk-toggleable__label-arrow:hover:before {color: black;}#sk-container-id-12 div.sk-estimator:hover label.sk-toggleable__label-arrow:before {color: black;}#sk-container-id-12 div.sk-toggleable__content {max-height: 0;max-width: 0;overflow: hidden;text-align: left;background-color: #f0f8ff;}#sk-container-id-12 div.sk-toggleable__content pre {margin: 0.2em;color: black;border-radius: 0.25em;background-color: #f0f8ff;}#sk-container-id-12 input.sk-toggleable__control:checked~div.sk-toggleable__content {max-height: 200px;max-width: 100%;overflow: auto;}#sk-container-id-12 input.sk-toggleable__control:checked~label.sk-toggleable__label-arrow:before {content: \"▾\";}#sk-container-id-12 div.sk-estimator input.sk-toggleable__control:checked~label.sk-toggleable__label {background-color: #d4ebff;}#sk-container-id-12 div.sk-label input.sk-toggleable__control:checked~label.sk-toggleable__label {background-color: #d4ebff;}#sk-container-id-12 input.sk-hidden--visually {border: 0;clip: rect(1px 1px 1px 1px);clip: rect(1px, 1px, 1px, 1px);height: 1px;margin: -1px;overflow: hidden;padding: 0;position: absolute;width: 1px;}#sk-container-id-12 div.sk-estimator {font-family: monospace;background-color: #f0f8ff;border: 1px dotted black;border-radius: 0.25em;box-sizing: border-box;margin-bottom: 0.5em;}#sk-container-id-12 div.sk-estimator:hover {background-color: #d4ebff;}#sk-container-id-12 div.sk-parallel-item::after {content: \"\";width: 100%;border-bottom: 1px solid gray;flex-grow: 1;}#sk-container-id-12 div.sk-label:hover label.sk-toggleable__label {background-color: #d4ebff;}#sk-container-id-12 div.sk-serial::before {content: \"\";position: absolute;border-left: 1px solid gray;box-sizing: border-box;top: 0;bottom: 0;left: 50%;z-index: 0;}#sk-container-id-12 div.sk-serial {display: flex;flex-direction: column;align-items: center;background-color: white;padding-right: 0.2em;padding-left: 0.2em;position: relative;}#sk-container-id-12 div.sk-item {position: relative;z-index: 1;}#sk-container-id-12 div.sk-parallel {display: flex;align-items: stretch;justify-content: center;background-color: white;position: relative;}#sk-container-id-12 div.sk-item::before, #sk-container-id-12 div.sk-parallel-item::before {content: \"\";position: absolute;border-left: 1px solid gray;box-sizing: border-box;top: 0;bottom: 0;left: 50%;z-index: -1;}#sk-container-id-12 div.sk-parallel-item {display: flex;flex-direction: column;z-index: 1;position: relative;background-color: white;}#sk-container-id-12 div.sk-parallel-item:first-child::after {align-self: flex-end;width: 50%;}#sk-container-id-12 div.sk-parallel-item:last-child::after {align-self: flex-start;width: 50%;}#sk-container-id-12 div.sk-parallel-item:only-child::after {width: 0;}#sk-container-id-12 div.sk-dashed-wrapped {border: 1px dashed gray;margin: 0 0.4em 0.5em 0.4em;box-sizing: border-box;padding-bottom: 0.4em;background-color: white;}#sk-container-id-12 div.sk-label label {font-family: monospace;font-weight: bold;display: inline-block;line-height: 1.2em;}#sk-container-id-12 div.sk-label-container {text-align: center;}#sk-container-id-12 div.sk-container {/* jupyter's `normalize.less` sets `[hidden] { display: none; }` but bootstrap.min.css set `[hidden] { display: none !important; }` so we also need the `!important` here to be able to override the default hidden behavior on the sphinx rendered scikit-learn.org. See: https://github.com/scikit-learn/scikit-learn/issues/21755 */display: inline-block !important;position: relative;}#sk-container-id-12 div.sk-text-repr-fallback {display: none;}</style><div id=\"sk-container-id-12\" class=\"sk-top-container\"><div class=\"sk-text-repr-fallback\"><pre>GaussianNB()</pre><b>In a Jupyter environment, please rerun this cell to show the HTML representation or trust the notebook. <br />On GitHub, the HTML representation is unable to render, please try loading this page with nbviewer.org.</b></div><div class=\"sk-container\" hidden><div class=\"sk-item\"><div class=\"sk-estimator sk-toggleable\"><input class=\"sk-toggleable__control sk-hidden--visually\" id=\"sk-estimator-id-12\" type=\"checkbox\" checked><label for=\"sk-estimator-id-12\" class=\"sk-toggleable__label sk-toggleable__label-arrow\">GaussianNB</label><div class=\"sk-toggleable__content\"><pre>GaussianNB()</pre></div></div></div></div></div>"
      ],
      "text/plain": [
       "GaussianNB()"
      ]
     },
     "execution_count": 93,
     "metadata": {},
     "output_type": "execute_result"
    }
   ],
   "source": [
    "X_train_NB = x_NB1.reshape(x_NB1.shape[0], x_NB1.shape[1]*x_NB1.shape[2])\n",
    "X_lstm_NB = X_lstm.reshape(X_lstm.shape[0], X_lstm.shape[1]*X_lstm.shape[2])\n",
    "X_test_NB = X_test.reshape(X_test.shape[0], X_test.shape[1]*X_test.shape[2])\n",
    "\n",
    "\n",
    "gnb2 = GaussianNB()\n",
    "\n",
    "# Train the model\n",
    "gnb2.fit(X_train_NB, y_NB1)"
   ]
  },
  {
   "cell_type": "code",
   "execution_count": 94,
   "metadata": {},
   "outputs": [],
   "source": [
    "X_train_NB_lstm = (gnb2.predict_proba(X_lstm_NB))[:,1]\n",
    "X_test_NB = (gnb2.predict_proba(X_test_NB))[:, 1]"
   ]
  },
  {
   "cell_type": "code",
   "execution_count": 95,
   "metadata": {},
   "outputs": [],
   "source": [
    "X_train_lstm, y_train_lstm = convert_NB_to_lstm_data(x_lstm_seq, X_train_NB_lstm, y_lstm, 500)\n",
    "X_test_lstm, y_test_lstm = convert_NB_to_lstm_data(x_test_seq, X_test_NB, y_test, 500)"
   ]
  },
  {
   "cell_type": "code",
   "execution_count": 98,
   "metadata": {},
   "outputs": [
    {
     "name": "stdout",
     "output_type": "stream",
     "text": [
      "Epoch 1/25\n"
     ]
    },
    {
     "name": "stderr",
     "output_type": "stream",
     "text": [
      "2023-11-26 10:49:37.104679: I tensorflow/core/grappler/optimizers/custom_graph_optimizer_registry.cc:114] Plugin optimizer for device_type GPU is enabled.\n",
      "2023-11-26 10:49:37.437266: I tensorflow/core/grappler/optimizers/custom_graph_optimizer_registry.cc:114] Plugin optimizer for device_type GPU is enabled.\n",
      "2023-11-26 10:49:37.772865: I tensorflow/core/grappler/optimizers/custom_graph_optimizer_registry.cc:114] Plugin optimizer for device_type GPU is enabled.\n"
     ]
    },
    {
     "name": "stdout",
     "output_type": "stream",
     "text": [
      "333/333 [==============================] - ETA: 0s - loss: 0.6019 - accuracy: 0.6820"
     ]
    },
    {
     "name": "stderr",
     "output_type": "stream",
     "text": [
      "2023-11-26 10:49:56.712967: I tensorflow/core/grappler/optimizers/custom_graph_optimizer_registry.cc:114] Plugin optimizer for device_type GPU is enabled.\n",
      "2023-11-26 10:49:56.888762: I tensorflow/core/grappler/optimizers/custom_graph_optimizer_registry.cc:114] Plugin optimizer for device_type GPU is enabled.\n"
     ]
    },
    {
     "name": "stdout",
     "output_type": "stream",
     "text": [
      "333/333 [==============================] - 24s 68ms/step - loss: 0.6019 - accuracy: 0.6820 - val_loss: 0.5915 - val_accuracy: 0.6966\n",
      "Epoch 2/25\n",
      "333/333 [==============================] - 22s 65ms/step - loss: 0.5790 - accuracy: 0.7049 - val_loss: 0.5835 - val_accuracy: 0.7015\n",
      "Epoch 3/25\n",
      "333/333 [==============================] - 22s 65ms/step - loss: 0.5721 - accuracy: 0.7098 - val_loss: 0.5749 - val_accuracy: 0.7089\n",
      "Epoch 4/25\n",
      "333/333 [==============================] - 22s 66ms/step - loss: 0.5668 - accuracy: 0.7134 - val_loss: 0.5708 - val_accuracy: 0.7102\n",
      "Epoch 5/25\n",
      "333/333 [==============================] - 22s 66ms/step - loss: 0.5631 - accuracy: 0.7163 - val_loss: 0.5760 - val_accuracy: 0.7079\n",
      "Epoch 6/25\n",
      "333/333 [==============================] - 22s 66ms/step - loss: 0.5615 - accuracy: 0.7167 - val_loss: 0.5622 - val_accuracy: 0.7164\n",
      "Epoch 7/25\n",
      "333/333 [==============================] - 22s 66ms/step - loss: 0.5591 - accuracy: 0.7190 - val_loss: 0.5810 - val_accuracy: 0.6979\n",
      "Epoch 8/25\n",
      "333/333 [==============================] - 22s 66ms/step - loss: 0.5539 - accuracy: 0.7222 - val_loss: 0.5552 - val_accuracy: 0.7211\n",
      "Epoch 9/25\n",
      "333/333 [==============================] - 22s 66ms/step - loss: 0.5508 - accuracy: 0.7243 - val_loss: 0.5561 - val_accuracy: 0.7206\n",
      "Epoch 10/25\n",
      "333/333 [==============================] - 22s 66ms/step - loss: 0.5450 - accuracy: 0.7293 - val_loss: 0.5547 - val_accuracy: 0.7225\n",
      "Epoch 11/25\n",
      "333/333 [==============================] - 22s 66ms/step - loss: 0.5426 - accuracy: 0.7308 - val_loss: 0.5478 - val_accuracy: 0.7258\n",
      "Epoch 12/25\n",
      "333/333 [==============================] - 22s 65ms/step - loss: 0.5391 - accuracy: 0.7323 - val_loss: 0.5510 - val_accuracy: 0.7217\n",
      "Epoch 13/25\n",
      "333/333 [==============================] - 22s 66ms/step - loss: 0.5368 - accuracy: 0.7344 - val_loss: 0.5558 - val_accuracy: 0.7205\n",
      "Epoch 14/25\n",
      "333/333 [==============================] - 22s 66ms/step - loss: 0.5361 - accuracy: 0.7347 - val_loss: 0.5504 - val_accuracy: 0.7248\n",
      "Epoch 15/25\n",
      "333/333 [==============================] - 22s 66ms/step - loss: 0.5341 - accuracy: 0.7364 - val_loss: 0.5439 - val_accuracy: 0.7294\n",
      "Epoch 16/25\n",
      "333/333 [==============================] - 22s 65ms/step - loss: 0.5306 - accuracy: 0.7380 - val_loss: 0.5504 - val_accuracy: 0.7254\n",
      "Epoch 17/25\n",
      "333/333 [==============================] - 22s 65ms/step - loss: 0.5320 - accuracy: 0.7376 - val_loss: 0.5397 - val_accuracy: 0.7320\n",
      "Epoch 18/25\n",
      "333/333 [==============================] - 22s 65ms/step - loss: 0.5289 - accuracy: 0.7395 - val_loss: 0.5468 - val_accuracy: 0.7274\n",
      "Epoch 19/25\n",
      "333/333 [==============================] - 22s 65ms/step - loss: 0.5257 - accuracy: 0.7421 - val_loss: 0.5470 - val_accuracy: 0.7269\n",
      "Epoch 20/25\n",
      "333/333 [==============================] - 22s 65ms/step - loss: 0.5231 - accuracy: 0.7427 - val_loss: 0.5385 - val_accuracy: 0.7336\n",
      "Epoch 21/25\n",
      "333/333 [==============================] - 22s 66ms/step - loss: 0.5237 - accuracy: 0.7432 - val_loss: 0.5373 - val_accuracy: 0.7335\n",
      "Epoch 22/25\n",
      "333/333 [==============================] - 22s 66ms/step - loss: 0.5174 - accuracy: 0.7480 - val_loss: 0.5361 - val_accuracy: 0.7342\n",
      "Epoch 23/25\n",
      "333/333 [==============================] - 22s 65ms/step - loss: 0.5139 - accuracy: 0.7510 - val_loss: 0.5282 - val_accuracy: 0.7401\n",
      "Epoch 24/25\n",
      "333/333 [==============================] - 22s 66ms/step - loss: 0.5097 - accuracy: 0.7534 - val_loss: 0.5258 - val_accuracy: 0.7416\n",
      "Epoch 25/25\n",
      "333/333 [==============================] - 22s 65ms/step - loss: 0.5085 - accuracy: 0.7541 - val_loss: 0.5242 - val_accuracy: 0.7426\n"
     ]
    }
   ],
   "source": [
    "import numpy as np\n",
    "import tensorflow as tf\n",
    "from tensorflow.keras.models import Sequential\n",
    "from tensorflow.keras.layers import LSTM, Dense, Masking\n",
    "\n",
    "# Build the model\n",
    "model = Sequential()\n",
    "model.add(Masking(mask_value=0., input_shape=(None,21)))\n",
    "model.add(LSTM(64, return_sequences=True))  # Set return_sequences=True\n",
    "model.add(Dense(1, activation='sigmoid'))\n",
    "\n",
    "# Compile the model\n",
    "model.compile(optimizer='adam', loss='binary_crossentropy', metrics=['accuracy'])\n",
    "\n",
    "# Train the model with validation data and using the callback\n",
    "history = model.fit(\n",
    "    X_train_lstm, y_train_lstm,\n",
    "    epochs=25,\n",
    "    batch_size=8,\n",
    "    validation_data=(X_test_lstm, y_test_lstm)\n",
    ")"
   ]
  }
 ],
 "metadata": {
  "kernelspec": {
   "display_name": "Python 3",
   "language": "python",
   "name": "python3"
  },
  "language_info": {
   "codemirror_mode": {
    "name": "ipython",
    "version": 3
   },
   "file_extension": ".py",
   "mimetype": "text/x-python",
   "name": "python",
   "nbconvert_exporter": "python",
   "pygments_lexer": "ipython3",
   "version": "3.10.9"
  }
 },
 "nbformat": 4,
 "nbformat_minor": 2
}
